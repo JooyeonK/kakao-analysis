{
  "nbformat": 4,
  "nbformat_minor": 0,
  "metadata": {
    "colab": {
      "name": "XRP price prediction.ipynb",
      "provenance": [],
      "authorship_tag": "ABX9TyN5Ug17ZK9nyhuEc3D3etJI",
      "include_colab_link": true
    },
    "kernelspec": {
      "name": "python3",
      "display_name": "Python 3"
    }
  },
  "cells": [
    {
      "cell_type": "markdown",
      "metadata": {
        "id": "view-in-github",
        "colab_type": "text"
      },
      "source": [
        "<a href=\"https://colab.research.google.com/github/JooyeonK/kakao-analysis/blob/main/XRP_price_prediction.ipynb\" target=\"_parent\"><img src=\"https://colab.research.google.com/assets/colab-badge.svg\" alt=\"Open In Colab\"/></a>"
      ]
    },
    {
      "cell_type": "code",
      "metadata": {
        "colab": {
          "base_uri": "https://localhost:8080/"
        },
        "id": "htjxvi5PKVll",
        "outputId": "f41db845-8631-4f34-acbb-90df92778d7c"
      },
      "source": [
        "## Keras usage practice\r\n",
        "import tensorflow as tf\r\n",
        "mnist = tf.keras.datasets.mnist\r\n",
        "\r\n",
        "(x_train, y_train),(x_test, y_test) = mnist.load_data()\r\n",
        "x_train, x_test = x_train / 255.0, x_test / 255.0\r\n",
        "\r\n",
        "model = tf.keras.models.Sequential([\r\n",
        "  tf.keras.layers.Flatten(input_shape=(28, 28)),\r\n",
        "  tf.keras.layers.Dense(128, activation='relu'),\r\n",
        "  tf.keras.layers.Dropout(0.2),\r\n",
        "  tf.keras.layers.Dense(10, activation='softmax')\r\n",
        "])\r\n",
        "\r\n",
        "model.compile(optimizer='adam',\r\n",
        "              loss='sparse_categorical_crossentropy',\r\n",
        "              metrics=['accuracy'])\r\n",
        "\r\n",
        "model.fit(x_train, y_train, epochs=5)\r\n",
        "model.evaluate(x_test, y_test)\r\n"
      ],
      "execution_count": 2,
      "outputs": [
        {
          "output_type": "stream",
          "text": [
            "Downloading data from https://storage.googleapis.com/tensorflow/tf-keras-datasets/mnist.npz\n",
            "11493376/11490434 [==============================] - 0s 0us/step\n",
            "Epoch 1/5\n",
            "1875/1875 [==============================] - 4s 2ms/step - loss: 0.4883 - accuracy: 0.8589\n",
            "Epoch 2/5\n",
            "1875/1875 [==============================] - 4s 2ms/step - loss: 0.1497 - accuracy: 0.9549\n",
            "Epoch 3/5\n",
            "1875/1875 [==============================] - 4s 2ms/step - loss: 0.1083 - accuracy: 0.9673\n",
            "Epoch 4/5\n",
            "1875/1875 [==============================] - 4s 2ms/step - loss: 0.0890 - accuracy: 0.9731\n",
            "Epoch 5/5\n",
            "1875/1875 [==============================] - 4s 2ms/step - loss: 0.0736 - accuracy: 0.9761\n",
            "313/313 [==============================] - 0s 1ms/step - loss: 0.0774 - accuracy: 0.9753\n"
          ],
          "name": "stdout"
        },
        {
          "output_type": "execute_result",
          "data": {
            "text/plain": [
              "[0.07741659879684448, 0.9753000140190125]"
            ]
          },
          "metadata": {
            "tags": []
          },
          "execution_count": 2
        }
      ]
    },
    {
      "cell_type": "markdown",
      "metadata": {
        "id": "46f06P7E93um"
      },
      "source": [
        "암호화폐의 한 종류인 리플(XRP)의 가격 급등(시초가와 고가 차이가 5% 이상) 여부를 예측하는 코드 짜기\r\n",
        "\r\n",
        "- 사용 알고리즘 - 랜덤 포레스트\r\n",
        "- 데이터 - 리플(XRP)의 1시간 단위 가격 정보 (출처 - 빗썸 Bithumb)\r\n",
        "- 변수(feature) - 시초가, 종가, 고가, 저가, 갭(아래에서 정의), 트렌드(아래에서 정의), 해당 시간 급등 여부\r\n",
        "- 라벨(target) - 이후 5시간 이내에 급등이 존재함(1), 존재하지 않음(0)"
      ]
    },
    {
      "cell_type": "code",
      "metadata": {
        "id": "g8GssMwCKj5X"
      },
      "source": [
        "import pandas as pd\r\n",
        "import numpy as np\r\n",
        "from matplotlib import pyplot as plt"
      ],
      "execution_count": 3,
      "outputs": []
    },
    {
      "cell_type": "code",
      "metadata": {
        "colab": {
          "resources": {
            "http://localhost:8080/nbextensions/google.colab/files.js": {
              "data": "Ly8gQ29weXJpZ2h0IDIwMTcgR29vZ2xlIExMQwovLwovLyBMaWNlbnNlZCB1bmRlciB0aGUgQXBhY2hlIExpY2Vuc2UsIFZlcnNpb24gMi4wICh0aGUgIkxpY2Vuc2UiKTsKLy8geW91IG1heSBub3QgdXNlIHRoaXMgZmlsZSBleGNlcHQgaW4gY29tcGxpYW5jZSB3aXRoIHRoZSBMaWNlbnNlLgovLyBZb3UgbWF5IG9idGFpbiBhIGNvcHkgb2YgdGhlIExpY2Vuc2UgYXQKLy8KLy8gICAgICBodHRwOi8vd3d3LmFwYWNoZS5vcmcvbGljZW5zZXMvTElDRU5TRS0yLjAKLy8KLy8gVW5sZXNzIHJlcXVpcmVkIGJ5IGFwcGxpY2FibGUgbGF3IG9yIGFncmVlZCB0byBpbiB3cml0aW5nLCBzb2Z0d2FyZQovLyBkaXN0cmlidXRlZCB1bmRlciB0aGUgTGljZW5zZSBpcyBkaXN0cmlidXRlZCBvbiBhbiAiQVMgSVMiIEJBU0lTLAovLyBXSVRIT1VUIFdBUlJBTlRJRVMgT1IgQ09ORElUSU9OUyBPRiBBTlkgS0lORCwgZWl0aGVyIGV4cHJlc3Mgb3IgaW1wbGllZC4KLy8gU2VlIHRoZSBMaWNlbnNlIGZvciB0aGUgc3BlY2lmaWMgbGFuZ3VhZ2UgZ292ZXJuaW5nIHBlcm1pc3Npb25zIGFuZAovLyBsaW1pdGF0aW9ucyB1bmRlciB0aGUgTGljZW5zZS4KCi8qKgogKiBAZmlsZW92ZXJ2aWV3IEhlbHBlcnMgZm9yIGdvb2dsZS5jb2xhYiBQeXRob24gbW9kdWxlLgogKi8KKGZ1bmN0aW9uKHNjb3BlKSB7CmZ1bmN0aW9uIHNwYW4odGV4dCwgc3R5bGVBdHRyaWJ1dGVzID0ge30pIHsKICBjb25zdCBlbGVtZW50ID0gZG9jdW1lbnQuY3JlYXRlRWxlbWVudCgnc3BhbicpOwogIGVsZW1lbnQudGV4dENvbnRlbnQgPSB0ZXh0OwogIGZvciAoY29uc3Qga2V5IG9mIE9iamVjdC5rZXlzKHN0eWxlQXR0cmlidXRlcykpIHsKICAgIGVsZW1lbnQuc3R5bGVba2V5XSA9IHN0eWxlQXR0cmlidXRlc1trZXldOwogIH0KICByZXR1cm4gZWxlbWVudDsKfQoKLy8gTWF4IG51bWJlciBvZiBieXRlcyB3aGljaCB3aWxsIGJlIHVwbG9hZGVkIGF0IGEgdGltZS4KY29uc3QgTUFYX1BBWUxPQURfU0laRSA9IDEwMCAqIDEwMjQ7CgpmdW5jdGlvbiBfdXBsb2FkRmlsZXMoaW5wdXRJZCwgb3V0cHV0SWQpIHsKICBjb25zdCBzdGVwcyA9IHVwbG9hZEZpbGVzU3RlcChpbnB1dElkLCBvdXRwdXRJZCk7CiAgY29uc3Qgb3V0cHV0RWxlbWVudCA9IGRvY3VtZW50LmdldEVsZW1lbnRCeUlkKG91dHB1dElkKTsKICAvLyBDYWNoZSBzdGVwcyBvbiB0aGUgb3V0cHV0RWxlbWVudCB0byBtYWtlIGl0IGF2YWlsYWJsZSBmb3IgdGhlIG5leHQgY2FsbAogIC8vIHRvIHVwbG9hZEZpbGVzQ29udGludWUgZnJvbSBQeXRob24uCiAgb3V0cHV0RWxlbWVudC5zdGVwcyA9IHN0ZXBzOwoKICByZXR1cm4gX3VwbG9hZEZpbGVzQ29udGludWUob3V0cHV0SWQpOwp9CgovLyBUaGlzIGlzIHJvdWdobHkgYW4gYXN5bmMgZ2VuZXJhdG9yIChub3Qgc3VwcG9ydGVkIGluIHRoZSBicm93c2VyIHlldCksCi8vIHdoZXJlIHRoZXJlIGFyZSBtdWx0aXBsZSBhc3luY2hyb25vdXMgc3RlcHMgYW5kIHRoZSBQeXRob24gc2lkZSBpcyBnb2luZwovLyB0byBwb2xsIGZvciBjb21wbGV0aW9uIG9mIGVhY2ggc3RlcC4KLy8gVGhpcyB1c2VzIGEgUHJvbWlzZSB0byBibG9jayB0aGUgcHl0aG9uIHNpZGUgb24gY29tcGxldGlvbiBvZiBlYWNoIHN0ZXAsCi8vIHRoZW4gcGFzc2VzIHRoZSByZXN1bHQgb2YgdGhlIHByZXZpb3VzIHN0ZXAgYXMgdGhlIGlucHV0IHRvIHRoZSBuZXh0IHN0ZXAuCmZ1bmN0aW9uIF91cGxvYWRGaWxlc0NvbnRpbnVlKG91dHB1dElkKSB7CiAgY29uc3Qgb3V0cHV0RWxlbWVudCA9IGRvY3VtZW50LmdldEVsZW1lbnRCeUlkKG91dHB1dElkKTsKICBjb25zdCBzdGVwcyA9IG91dHB1dEVsZW1lbnQuc3RlcHM7CgogIGNvbnN0IG5leHQgPSBzdGVwcy5uZXh0KG91dHB1dEVsZW1lbnQubGFzdFByb21pc2VWYWx1ZSk7CiAgcmV0dXJuIFByb21pc2UucmVzb2x2ZShuZXh0LnZhbHVlLnByb21pc2UpLnRoZW4oKHZhbHVlKSA9PiB7CiAgICAvLyBDYWNoZSB0aGUgbGFzdCBwcm9taXNlIHZhbHVlIHRvIG1ha2UgaXQgYXZhaWxhYmxlIHRvIHRoZSBuZXh0CiAgICAvLyBzdGVwIG9mIHRoZSBnZW5lcmF0b3IuCiAgICBvdXRwdXRFbGVtZW50Lmxhc3RQcm9taXNlVmFsdWUgPSB2YWx1ZTsKICAgIHJldHVybiBuZXh0LnZhbHVlLnJlc3BvbnNlOwogIH0pOwp9CgovKioKICogR2VuZXJhdG9yIGZ1bmN0aW9uIHdoaWNoIGlzIGNhbGxlZCBiZXR3ZWVuIGVhY2ggYXN5bmMgc3RlcCBvZiB0aGUgdXBsb2FkCiAqIHByb2Nlc3MuCiAqIEBwYXJhbSB7c3RyaW5nfSBpbnB1dElkIEVsZW1lbnQgSUQgb2YgdGhlIGlucHV0IGZpbGUgcGlja2VyIGVsZW1lbnQuCiAqIEBwYXJhbSB7c3RyaW5nfSBvdXRwdXRJZCBFbGVtZW50IElEIG9mIHRoZSBvdXRwdXQgZGlzcGxheS4KICogQHJldHVybiB7IUl0ZXJhYmxlPCFPYmplY3Q+fSBJdGVyYWJsZSBvZiBuZXh0IHN0ZXBzLgogKi8KZnVuY3Rpb24qIHVwbG9hZEZpbGVzU3RlcChpbnB1dElkLCBvdXRwdXRJZCkgewogIGNvbnN0IGlucHV0RWxlbWVudCA9IGRvY3VtZW50LmdldEVsZW1lbnRCeUlkKGlucHV0SWQpOwogIGlucHV0RWxlbWVudC5kaXNhYmxlZCA9IGZhbHNlOwoKICBjb25zdCBvdXRwdXRFbGVtZW50ID0gZG9jdW1lbnQuZ2V0RWxlbWVudEJ5SWQob3V0cHV0SWQpOwogIG91dHB1dEVsZW1lbnQuaW5uZXJIVE1MID0gJyc7CgogIGNvbnN0IHBpY2tlZFByb21pc2UgPSBuZXcgUHJvbWlzZSgocmVzb2x2ZSkgPT4gewogICAgaW5wdXRFbGVtZW50LmFkZEV2ZW50TGlzdGVuZXIoJ2NoYW5nZScsIChlKSA9PiB7CiAgICAgIHJlc29sdmUoZS50YXJnZXQuZmlsZXMpOwogICAgfSk7CiAgfSk7CgogIGNvbnN0IGNhbmNlbCA9IGRvY3VtZW50LmNyZWF0ZUVsZW1lbnQoJ2J1dHRvbicpOwogIGlucHV0RWxlbWVudC5wYXJlbnRFbGVtZW50LmFwcGVuZENoaWxkKGNhbmNlbCk7CiAgY2FuY2VsLnRleHRDb250ZW50ID0gJ0NhbmNlbCB1cGxvYWQnOwogIGNvbnN0IGNhbmNlbFByb21pc2UgPSBuZXcgUHJvbWlzZSgocmVzb2x2ZSkgPT4gewogICAgY2FuY2VsLm9uY2xpY2sgPSAoKSA9PiB7CiAgICAgIHJlc29sdmUobnVsbCk7CiAgICB9OwogIH0pOwoKICAvLyBXYWl0IGZvciB0aGUgdXNlciB0byBwaWNrIHRoZSBmaWxlcy4KICBjb25zdCBmaWxlcyA9IHlpZWxkIHsKICAgIHByb21pc2U6IFByb21pc2UucmFjZShbcGlja2VkUHJvbWlzZSwgY2FuY2VsUHJvbWlzZV0pLAogICAgcmVzcG9uc2U6IHsKICAgICAgYWN0aW9uOiAnc3RhcnRpbmcnLAogICAgfQogIH07CgogIGNhbmNlbC5yZW1vdmUoKTsKCiAgLy8gRGlzYWJsZSB0aGUgaW5wdXQgZWxlbWVudCBzaW5jZSBmdXJ0aGVyIHBpY2tzIGFyZSBub3QgYWxsb3dlZC4KICBpbnB1dEVsZW1lbnQuZGlzYWJsZWQgPSB0cnVlOwoKICBpZiAoIWZpbGVzKSB7CiAgICByZXR1cm4gewogICAgICByZXNwb25zZTogewogICAgICAgIGFjdGlvbjogJ2NvbXBsZXRlJywKICAgICAgfQogICAgfTsKICB9CgogIGZvciAoY29uc3QgZmlsZSBvZiBmaWxlcykgewogICAgY29uc3QgbGkgPSBkb2N1bWVudC5jcmVhdGVFbGVtZW50KCdsaScpOwogICAgbGkuYXBwZW5kKHNwYW4oZmlsZS5uYW1lLCB7Zm9udFdlaWdodDogJ2JvbGQnfSkpOwogICAgbGkuYXBwZW5kKHNwYW4oCiAgICAgICAgYCgke2ZpbGUudHlwZSB8fCAnbi9hJ30pIC0gJHtmaWxlLnNpemV9IGJ5dGVzLCBgICsKICAgICAgICBgbGFzdCBtb2RpZmllZDogJHsKICAgICAgICAgICAgZmlsZS5sYXN0TW9kaWZpZWREYXRlID8gZmlsZS5sYXN0TW9kaWZpZWREYXRlLnRvTG9jYWxlRGF0ZVN0cmluZygpIDoKICAgICAgICAgICAgICAgICAgICAgICAgICAgICAgICAgICAgJ24vYSd9IC0gYCkpOwogICAgY29uc3QgcGVyY2VudCA9IHNwYW4oJzAlIGRvbmUnKTsKICAgIGxpLmFwcGVuZENoaWxkKHBlcmNlbnQpOwoKICAgIG91dHB1dEVsZW1lbnQuYXBwZW5kQ2hpbGQobGkpOwoKICAgIGNvbnN0IGZpbGVEYXRhUHJvbWlzZSA9IG5ldyBQcm9taXNlKChyZXNvbHZlKSA9PiB7CiAgICAgIGNvbnN0IHJlYWRlciA9IG5ldyBGaWxlUmVhZGVyKCk7CiAgICAgIHJlYWRlci5vbmxvYWQgPSAoZSkgPT4gewogICAgICAgIHJlc29sdmUoZS50YXJnZXQucmVzdWx0KTsKICAgICAgfTsKICAgICAgcmVhZGVyLnJlYWRBc0FycmF5QnVmZmVyKGZpbGUpOwogICAgfSk7CiAgICAvLyBXYWl0IGZvciB0aGUgZGF0YSB0byBiZSByZWFkeS4KICAgIGxldCBmaWxlRGF0YSA9IHlpZWxkIHsKICAgICAgcHJvbWlzZTogZmlsZURhdGFQcm9taXNlLAogICAgICByZXNwb25zZTogewogICAgICAgIGFjdGlvbjogJ2NvbnRpbnVlJywKICAgICAgfQogICAgfTsKCiAgICAvLyBVc2UgYSBjaHVua2VkIHNlbmRpbmcgdG8gYXZvaWQgbWVzc2FnZSBzaXplIGxpbWl0cy4gU2VlIGIvNjIxMTU2NjAuCiAgICBsZXQgcG9zaXRpb24gPSAwOwogICAgd2hpbGUgKHBvc2l0aW9uIDwgZmlsZURhdGEuYnl0ZUxlbmd0aCkgewogICAgICBjb25zdCBsZW5ndGggPSBNYXRoLm1pbihmaWxlRGF0YS5ieXRlTGVuZ3RoIC0gcG9zaXRpb24sIE1BWF9QQVlMT0FEX1NJWkUpOwogICAgICBjb25zdCBjaHVuayA9IG5ldyBVaW50OEFycmF5KGZpbGVEYXRhLCBwb3NpdGlvbiwgbGVuZ3RoKTsKICAgICAgcG9zaXRpb24gKz0gbGVuZ3RoOwoKICAgICAgY29uc3QgYmFzZTY0ID0gYnRvYShTdHJpbmcuZnJvbUNoYXJDb2RlLmFwcGx5KG51bGwsIGNodW5rKSk7CiAgICAgIHlpZWxkIHsKICAgICAgICByZXNwb25zZTogewogICAgICAgICAgYWN0aW9uOiAnYXBwZW5kJywKICAgICAgICAgIGZpbGU6IGZpbGUubmFtZSwKICAgICAgICAgIGRhdGE6IGJhc2U2NCwKICAgICAgICB9LAogICAgICB9OwogICAgICBwZXJjZW50LnRleHRDb250ZW50ID0KICAgICAgICAgIGAke01hdGgucm91bmQoKHBvc2l0aW9uIC8gZmlsZURhdGEuYnl0ZUxlbmd0aCkgKiAxMDApfSUgZG9uZWA7CiAgICB9CiAgfQoKICAvLyBBbGwgZG9uZS4KICB5aWVsZCB7CiAgICByZXNwb25zZTogewogICAgICBhY3Rpb246ICdjb21wbGV0ZScsCiAgICB9CiAgfTsKfQoKc2NvcGUuZ29vZ2xlID0gc2NvcGUuZ29vZ2xlIHx8IHt9OwpzY29wZS5nb29nbGUuY29sYWIgPSBzY29wZS5nb29nbGUuY29sYWIgfHwge307CnNjb3BlLmdvb2dsZS5jb2xhYi5fZmlsZXMgPSB7CiAgX3VwbG9hZEZpbGVzLAogIF91cGxvYWRGaWxlc0NvbnRpbnVlLAp9Owp9KShzZWxmKTsK",
              "ok": true,
              "headers": [
                [
                  "content-type",
                  "application/javascript"
                ]
              ],
              "status": 200,
              "status_text": ""
            }
          },
          "base_uri": "https://localhost:8080/",
          "height": 76
        },
        "id": "1-Q7ht5vLCWs",
        "outputId": "8acfb2d6-cdaa-4e51-abcf-c64b81b31643"
      },
      "source": [
        "from google.colab import files\r\n",
        "uploaded = files.upload()"
      ],
      "execution_count": 4,
      "outputs": [
        {
          "output_type": "display_data",
          "data": {
            "text/html": [
              "\n",
              "     <input type=\"file\" id=\"files-bbda4e04-db9e-4036-bcd8-b7b927e52c62\" name=\"files[]\" multiple disabled\n",
              "        style=\"border:none\" />\n",
              "     <output id=\"result-bbda4e04-db9e-4036-bcd8-b7b927e52c62\">\n",
              "      Upload widget is only available when the cell has been executed in the\n",
              "      current browser session. Please rerun this cell to enable.\n",
              "      </output>\n",
              "      <script src=\"/nbextensions/google.colab/files.js\"></script> "
            ],
            "text/plain": [
              "<IPython.core.display.HTML object>"
            ]
          },
          "metadata": {
            "tags": []
          }
        },
        {
          "output_type": "stream",
          "text": [
            "Saving Bithumb_XRPKRW_1h.csv to Bithumb_XRPKRW_1h.csv\n"
          ],
          "name": "stdout"
        }
      ]
    },
    {
      "cell_type": "code",
      "metadata": {
        "id": "4dWJ2gyHNMZE"
      },
      "source": [
        "import io\r\n",
        "xrp = pd.read_csv(io.BytesIO(uploaded['Bithumb_XRPKRW_1h.csv']), skiprows = 1)"
      ],
      "execution_count": 5,
      "outputs": []
    },
    {
      "cell_type": "code",
      "metadata": {
        "colab": {
          "base_uri": "https://localhost:8080/",
          "height": 195
        },
        "id": "LTuYJLzPNSQ5",
        "outputId": "765c7c12-23cb-44c2-895d-cf84c4ba2735"
      },
      "source": [
        "xrp.head()"
      ],
      "execution_count": 6,
      "outputs": [
        {
          "output_type": "execute_result",
          "data": {
            "text/html": [
              "<div>\n",
              "<style scoped>\n",
              "    .dataframe tbody tr th:only-of-type {\n",
              "        vertical-align: middle;\n",
              "    }\n",
              "\n",
              "    .dataframe tbody tr th {\n",
              "        vertical-align: top;\n",
              "    }\n",
              "\n",
              "    .dataframe thead th {\n",
              "        text-align: right;\n",
              "    }\n",
              "</style>\n",
              "<table border=\"1\" class=\"dataframe\">\n",
              "  <thead>\n",
              "    <tr style=\"text-align: right;\">\n",
              "      <th></th>\n",
              "      <th>Unix Timestamp</th>\n",
              "      <th>Date</th>\n",
              "      <th>Symbol</th>\n",
              "      <th>Open</th>\n",
              "      <th>High</th>\n",
              "      <th>Low</th>\n",
              "      <th>Close</th>\n",
              "      <th>Volume XRP</th>\n",
              "      <th>Volume KRW</th>\n",
              "    </tr>\n",
              "  </thead>\n",
              "  <tbody>\n",
              "    <tr>\n",
              "      <th>0</th>\n",
              "      <td>1.605856e+09</td>\n",
              "      <td>2020-11-20 07-AM</td>\n",
              "      <td>XRPKRW</td>\n",
              "      <td>334.1</td>\n",
              "      <td>334.9</td>\n",
              "      <td>332.2</td>\n",
              "      <td>333.1</td>\n",
              "      <td>4064148.25</td>\n",
              "      <td>1.354794e+09</td>\n",
              "    </tr>\n",
              "    <tr>\n",
              "      <th>1</th>\n",
              "      <td>1.605852e+09</td>\n",
              "      <td>2020-11-20 06-AM</td>\n",
              "      <td>XRPKRW</td>\n",
              "      <td>332.0</td>\n",
              "      <td>334.6</td>\n",
              "      <td>331.7</td>\n",
              "      <td>334.1</td>\n",
              "      <td>4450924.10</td>\n",
              "      <td>1.484007e+09</td>\n",
              "    </tr>\n",
              "    <tr>\n",
              "      <th>2</th>\n",
              "      <td>1.605848e+09</td>\n",
              "      <td>2020-11-20 05-AM</td>\n",
              "      <td>XRPKRW</td>\n",
              "      <td>335.2</td>\n",
              "      <td>335.7</td>\n",
              "      <td>329.5</td>\n",
              "      <td>332.0</td>\n",
              "      <td>8316327.40</td>\n",
              "      <td>2.759482e+09</td>\n",
              "    </tr>\n",
              "    <tr>\n",
              "      <th>3</th>\n",
              "      <td>1.605845e+09</td>\n",
              "      <td>2020-11-20 04-AM</td>\n",
              "      <td>XRPKRW</td>\n",
              "      <td>335.0</td>\n",
              "      <td>336.2</td>\n",
              "      <td>333.0</td>\n",
              "      <td>335.2</td>\n",
              "      <td>4461271.49</td>\n",
              "      <td>1.491363e+09</td>\n",
              "    </tr>\n",
              "    <tr>\n",
              "      <th>4</th>\n",
              "      <td>1.605841e+09</td>\n",
              "      <td>2020-11-20 03-AM</td>\n",
              "      <td>XRPKRW</td>\n",
              "      <td>337.4</td>\n",
              "      <td>337.8</td>\n",
              "      <td>334.7</td>\n",
              "      <td>335.0</td>\n",
              "      <td>3636048.86</td>\n",
              "      <td>1.223512e+09</td>\n",
              "    </tr>\n",
              "  </tbody>\n",
              "</table>\n",
              "</div>"
            ],
            "text/plain": [
              "   Unix Timestamp              Date  Symbol  ...  Close  Volume XRP    Volume KRW\n",
              "0    1.605856e+09  2020-11-20 07-AM  XRPKRW  ...  333.1  4064148.25  1.354794e+09\n",
              "1    1.605852e+09  2020-11-20 06-AM  XRPKRW  ...  334.1  4450924.10  1.484007e+09\n",
              "2    1.605848e+09  2020-11-20 05-AM  XRPKRW  ...  332.0  8316327.40  2.759482e+09\n",
              "3    1.605845e+09  2020-11-20 04-AM  XRPKRW  ...  335.2  4461271.49  1.491363e+09\n",
              "4    1.605841e+09  2020-11-20 03-AM  XRPKRW  ...  335.0  3636048.86  1.223512e+09\n",
              "\n",
              "[5 rows x 9 columns]"
            ]
          },
          "metadata": {
            "tags": []
          },
          "execution_count": 6
        }
      ]
    },
    {
      "cell_type": "code",
      "metadata": {
        "colab": {
          "base_uri": "https://localhost:8080/",
          "height": 343
        },
        "id": "W61y6KHUWyv_",
        "outputId": "8b1dd29c-cdd0-4a5c-f6cb-b7daaa801e11"
      },
      "source": [
        "xrp[\"Soar\"] = [int(a) for a in xrp[\"High\"]/xrp[\"Open\"] > 1.05]\r\n",
        "xrp[\"Gap\"] = (xrp[\"High\"] - xrp[\"Low\"])/xrp[\"Open\"]\r\n",
        "## 고가와 저가의 차이를 시초가로 나누어 scaling 한 것을 gap이라고 정의한다.\r\n",
        "xrp.head(10)"
      ],
      "execution_count": 7,
      "outputs": [
        {
          "output_type": "execute_result",
          "data": {
            "text/html": [
              "<div>\n",
              "<style scoped>\n",
              "    .dataframe tbody tr th:only-of-type {\n",
              "        vertical-align: middle;\n",
              "    }\n",
              "\n",
              "    .dataframe tbody tr th {\n",
              "        vertical-align: top;\n",
              "    }\n",
              "\n",
              "    .dataframe thead th {\n",
              "        text-align: right;\n",
              "    }\n",
              "</style>\n",
              "<table border=\"1\" class=\"dataframe\">\n",
              "  <thead>\n",
              "    <tr style=\"text-align: right;\">\n",
              "      <th></th>\n",
              "      <th>Unix Timestamp</th>\n",
              "      <th>Date</th>\n",
              "      <th>Symbol</th>\n",
              "      <th>Open</th>\n",
              "      <th>High</th>\n",
              "      <th>Low</th>\n",
              "      <th>Close</th>\n",
              "      <th>Volume XRP</th>\n",
              "      <th>Volume KRW</th>\n",
              "      <th>Soar</th>\n",
              "      <th>Gap</th>\n",
              "    </tr>\n",
              "  </thead>\n",
              "  <tbody>\n",
              "    <tr>\n",
              "      <th>0</th>\n",
              "      <td>1.605856e+09</td>\n",
              "      <td>2020-11-20 07-AM</td>\n",
              "      <td>XRPKRW</td>\n",
              "      <td>334.1</td>\n",
              "      <td>334.9</td>\n",
              "      <td>332.2</td>\n",
              "      <td>333.1</td>\n",
              "      <td>4064148.25</td>\n",
              "      <td>1.354794e+09</td>\n",
              "      <td>0</td>\n",
              "      <td>0.008081</td>\n",
              "    </tr>\n",
              "    <tr>\n",
              "      <th>1</th>\n",
              "      <td>1.605852e+09</td>\n",
              "      <td>2020-11-20 06-AM</td>\n",
              "      <td>XRPKRW</td>\n",
              "      <td>332.0</td>\n",
              "      <td>334.6</td>\n",
              "      <td>331.7</td>\n",
              "      <td>334.1</td>\n",
              "      <td>4450924.10</td>\n",
              "      <td>1.484007e+09</td>\n",
              "      <td>0</td>\n",
              "      <td>0.008735</td>\n",
              "    </tr>\n",
              "    <tr>\n",
              "      <th>2</th>\n",
              "      <td>1.605848e+09</td>\n",
              "      <td>2020-11-20 05-AM</td>\n",
              "      <td>XRPKRW</td>\n",
              "      <td>335.2</td>\n",
              "      <td>335.7</td>\n",
              "      <td>329.5</td>\n",
              "      <td>332.0</td>\n",
              "      <td>8316327.40</td>\n",
              "      <td>2.759482e+09</td>\n",
              "      <td>0</td>\n",
              "      <td>0.018496</td>\n",
              "    </tr>\n",
              "    <tr>\n",
              "      <th>3</th>\n",
              "      <td>1.605845e+09</td>\n",
              "      <td>2020-11-20 04-AM</td>\n",
              "      <td>XRPKRW</td>\n",
              "      <td>335.0</td>\n",
              "      <td>336.2</td>\n",
              "      <td>333.0</td>\n",
              "      <td>335.2</td>\n",
              "      <td>4461271.49</td>\n",
              "      <td>1.491363e+09</td>\n",
              "      <td>0</td>\n",
              "      <td>0.009552</td>\n",
              "    </tr>\n",
              "    <tr>\n",
              "      <th>4</th>\n",
              "      <td>1.605841e+09</td>\n",
              "      <td>2020-11-20 03-AM</td>\n",
              "      <td>XRPKRW</td>\n",
              "      <td>337.4</td>\n",
              "      <td>337.8</td>\n",
              "      <td>334.7</td>\n",
              "      <td>335.0</td>\n",
              "      <td>3636048.86</td>\n",
              "      <td>1.223512e+09</td>\n",
              "      <td>0</td>\n",
              "      <td>0.009188</td>\n",
              "    </tr>\n",
              "    <tr>\n",
              "      <th>5</th>\n",
              "      <td>1.605838e+09</td>\n",
              "      <td>2020-11-20 02-AM</td>\n",
              "      <td>XRPKRW</td>\n",
              "      <td>336.0</td>\n",
              "      <td>338.6</td>\n",
              "      <td>335.5</td>\n",
              "      <td>337.4</td>\n",
              "      <td>5537214.68</td>\n",
              "      <td>1.866672e+09</td>\n",
              "      <td>0</td>\n",
              "      <td>0.009226</td>\n",
              "    </tr>\n",
              "    <tr>\n",
              "      <th>6</th>\n",
              "      <td>1.605834e+09</td>\n",
              "      <td>2020-11-20 01-AM</td>\n",
              "      <td>XRPKRW</td>\n",
              "      <td>335.5</td>\n",
              "      <td>336.2</td>\n",
              "      <td>334.6</td>\n",
              "      <td>336.0</td>\n",
              "      <td>3041073.92</td>\n",
              "      <td>1.020078e+09</td>\n",
              "      <td>0</td>\n",
              "      <td>0.004769</td>\n",
              "    </tr>\n",
              "    <tr>\n",
              "      <th>7</th>\n",
              "      <td>1.605830e+09</td>\n",
              "      <td>2020-11-20 12-AM</td>\n",
              "      <td>XRPKRW</td>\n",
              "      <td>337.7</td>\n",
              "      <td>337.7</td>\n",
              "      <td>334.3</td>\n",
              "      <td>335.5</td>\n",
              "      <td>10067769.60</td>\n",
              "      <td>3.387677e+09</td>\n",
              "      <td>0</td>\n",
              "      <td>0.010068</td>\n",
              "    </tr>\n",
              "    <tr>\n",
              "      <th>8</th>\n",
              "      <td>1.605827e+09</td>\n",
              "      <td>2020-11-19 11-PM</td>\n",
              "      <td>XRPKRW</td>\n",
              "      <td>334.7</td>\n",
              "      <td>337.8</td>\n",
              "      <td>332.9</td>\n",
              "      <td>337.7</td>\n",
              "      <td>6555515.08</td>\n",
              "      <td>2.195813e+09</td>\n",
              "      <td>0</td>\n",
              "      <td>0.014640</td>\n",
              "    </tr>\n",
              "    <tr>\n",
              "      <th>9</th>\n",
              "      <td>1.605823e+09</td>\n",
              "      <td>2020-11-19 10-PM</td>\n",
              "      <td>XRPKRW</td>\n",
              "      <td>331.9</td>\n",
              "      <td>335.5</td>\n",
              "      <td>331.0</td>\n",
              "      <td>334.7</td>\n",
              "      <td>2692570.25</td>\n",
              "      <td>8.989558e+08</td>\n",
              "      <td>0</td>\n",
              "      <td>0.013558</td>\n",
              "    </tr>\n",
              "  </tbody>\n",
              "</table>\n",
              "</div>"
            ],
            "text/plain": [
              "   Unix Timestamp              Date  Symbol  ...    Volume KRW  Soar       Gap\n",
              "0    1.605856e+09  2020-11-20 07-AM  XRPKRW  ...  1.354794e+09     0  0.008081\n",
              "1    1.605852e+09  2020-11-20 06-AM  XRPKRW  ...  1.484007e+09     0  0.008735\n",
              "2    1.605848e+09  2020-11-20 05-AM  XRPKRW  ...  2.759482e+09     0  0.018496\n",
              "3    1.605845e+09  2020-11-20 04-AM  XRPKRW  ...  1.491363e+09     0  0.009552\n",
              "4    1.605841e+09  2020-11-20 03-AM  XRPKRW  ...  1.223512e+09     0  0.009188\n",
              "5    1.605838e+09  2020-11-20 02-AM  XRPKRW  ...  1.866672e+09     0  0.009226\n",
              "6    1.605834e+09  2020-11-20 01-AM  XRPKRW  ...  1.020078e+09     0  0.004769\n",
              "7    1.605830e+09  2020-11-20 12-AM  XRPKRW  ...  3.387677e+09     0  0.010068\n",
              "8    1.605827e+09  2020-11-19 11-PM  XRPKRW  ...  2.195813e+09     0  0.014640\n",
              "9    1.605823e+09  2020-11-19 10-PM  XRPKRW  ...  8.989558e+08     0  0.013558\n",
              "\n",
              "[10 rows x 11 columns]"
            ]
          },
          "metadata": {
            "tags": []
          },
          "execution_count": 7
        }
      ]
    },
    {
      "cell_type": "code",
      "metadata": {
        "colab": {
          "base_uri": "https://localhost:8080/"
        },
        "id": "gzqdXRludgXK",
        "outputId": "6344524e-fa06-4aca-e451-dd212d2a759e"
      },
      "source": [
        "def trend(nrow):\r\n",
        "  if nrow > xrp.shape[0] - 5 :\r\n",
        "    return None\r\n",
        "  else:\r\n",
        "    aa = xrp[\"Gap\"][(nrow+1):(nrow+5)]\r\n",
        "    avg = np.mean(aa)\r\n",
        "  return avg\r\n",
        "\r\n",
        "def willsoar(nrow):\r\n",
        "  if nrow < 5 :\r\n",
        "    return None\r\n",
        "  else:\r\n",
        "    aa = xrp[\"Soar\"][(nrow - 5):(nrow-1)]\r\n",
        "    yes = sum(aa) > 0\r\n",
        "    return yes\r\n",
        "\r\n",
        "tr = []\r\n",
        "ws = []\r\n",
        "for i in range(xrp.shape[0]):\r\n",
        "  tr.append(trend(i))\r\n",
        "  ws.append(willsoar(i))\r\n",
        "\r\n",
        "tr[:10]\r\n",
        "# 특정 시간의 직전 5시간 동안 gap의 평균을 trend라고 정의한다. rough하게 말하면 절대편차의 평균이므로 분산과 비슷한 값이라고 생각할 수 있다.\r\n",
        "# trend는 가격의 fluctuation이 심했는지 아니면 거의 변동이 없었는지를 나타내 주는 변수.\r\n",
        "\r\n",
        "ws[:10]\r\n",
        "# 특정 시간의 직후 5시간 내에 급등 (시초가로부터 5% 이상의 가격 상승)이 존재하는지를 나타내는 변수이다.\r\n",
        "# 본 프로젝트의 target."
      ],
      "execution_count": 8,
      "outputs": [
        {
          "output_type": "execute_result",
          "data": {
            "text/plain": [
              "[None, None, None, None, None, False, False, False, False, False]"
            ]
          },
          "metadata": {
            "tags": []
          },
          "execution_count": 8
        }
      ]
    },
    {
      "cell_type": "code",
      "metadata": {
        "colab": {
          "base_uri": "https://localhost:8080/",
          "height": 491
        },
        "id": "IyebGhY1boa5",
        "outputId": "eba6eb5c-4a8d-4b63-ce67-68bd4d0f3045"
      },
      "source": [
        "xrp[\"Trend\"] = tr\r\n",
        "xrp[\"WillSoar\"] = ws\r\n",
        "xrp.head(15)\r\n"
      ],
      "execution_count": 9,
      "outputs": [
        {
          "output_type": "execute_result",
          "data": {
            "text/html": [
              "<div>\n",
              "<style scoped>\n",
              "    .dataframe tbody tr th:only-of-type {\n",
              "        vertical-align: middle;\n",
              "    }\n",
              "\n",
              "    .dataframe tbody tr th {\n",
              "        vertical-align: top;\n",
              "    }\n",
              "\n",
              "    .dataframe thead th {\n",
              "        text-align: right;\n",
              "    }\n",
              "</style>\n",
              "<table border=\"1\" class=\"dataframe\">\n",
              "  <thead>\n",
              "    <tr style=\"text-align: right;\">\n",
              "      <th></th>\n",
              "      <th>Unix Timestamp</th>\n",
              "      <th>Date</th>\n",
              "      <th>Symbol</th>\n",
              "      <th>Open</th>\n",
              "      <th>High</th>\n",
              "      <th>Low</th>\n",
              "      <th>Close</th>\n",
              "      <th>Volume XRP</th>\n",
              "      <th>Volume KRW</th>\n",
              "      <th>Soar</th>\n",
              "      <th>Gap</th>\n",
              "      <th>Trend</th>\n",
              "      <th>WillSoar</th>\n",
              "    </tr>\n",
              "  </thead>\n",
              "  <tbody>\n",
              "    <tr>\n",
              "      <th>0</th>\n",
              "      <td>1.605856e+09</td>\n",
              "      <td>2020-11-20 07-AM</td>\n",
              "      <td>XRPKRW</td>\n",
              "      <td>334.1</td>\n",
              "      <td>334.9</td>\n",
              "      <td>332.2</td>\n",
              "      <td>333.1</td>\n",
              "      <td>4064148.25</td>\n",
              "      <td>1.354794e+09</td>\n",
              "      <td>0</td>\n",
              "      <td>0.008081</td>\n",
              "      <td>0.011493</td>\n",
              "      <td>None</td>\n",
              "    </tr>\n",
              "    <tr>\n",
              "      <th>1</th>\n",
              "      <td>1.605852e+09</td>\n",
              "      <td>2020-11-20 06-AM</td>\n",
              "      <td>XRPKRW</td>\n",
              "      <td>332.0</td>\n",
              "      <td>334.6</td>\n",
              "      <td>331.7</td>\n",
              "      <td>334.1</td>\n",
              "      <td>4450924.10</td>\n",
              "      <td>1.484007e+09</td>\n",
              "      <td>0</td>\n",
              "      <td>0.008735</td>\n",
              "      <td>0.011616</td>\n",
              "      <td>None</td>\n",
              "    </tr>\n",
              "    <tr>\n",
              "      <th>2</th>\n",
              "      <td>1.605848e+09</td>\n",
              "      <td>2020-11-20 05-AM</td>\n",
              "      <td>XRPKRW</td>\n",
              "      <td>335.2</td>\n",
              "      <td>335.7</td>\n",
              "      <td>329.5</td>\n",
              "      <td>332.0</td>\n",
              "      <td>8316327.40</td>\n",
              "      <td>2.759482e+09</td>\n",
              "      <td>0</td>\n",
              "      <td>0.018496</td>\n",
              "      <td>0.008184</td>\n",
              "      <td>None</td>\n",
              "    </tr>\n",
              "    <tr>\n",
              "      <th>3</th>\n",
              "      <td>1.605845e+09</td>\n",
              "      <td>2020-11-20 04-AM</td>\n",
              "      <td>XRPKRW</td>\n",
              "      <td>335.0</td>\n",
              "      <td>336.2</td>\n",
              "      <td>333.0</td>\n",
              "      <td>335.2</td>\n",
              "      <td>4461271.49</td>\n",
              "      <td>1.491363e+09</td>\n",
              "      <td>0</td>\n",
              "      <td>0.009552</td>\n",
              "      <td>0.008313</td>\n",
              "      <td>None</td>\n",
              "    </tr>\n",
              "    <tr>\n",
              "      <th>4</th>\n",
              "      <td>1.605841e+09</td>\n",
              "      <td>2020-11-20 03-AM</td>\n",
              "      <td>XRPKRW</td>\n",
              "      <td>337.4</td>\n",
              "      <td>337.8</td>\n",
              "      <td>334.7</td>\n",
              "      <td>335.0</td>\n",
              "      <td>3636048.86</td>\n",
              "      <td>1.223512e+09</td>\n",
              "      <td>0</td>\n",
              "      <td>0.009188</td>\n",
              "      <td>0.009676</td>\n",
              "      <td>None</td>\n",
              "    </tr>\n",
              "    <tr>\n",
              "      <th>5</th>\n",
              "      <td>1.605838e+09</td>\n",
              "      <td>2020-11-20 02-AM</td>\n",
              "      <td>XRPKRW</td>\n",
              "      <td>336.0</td>\n",
              "      <td>338.6</td>\n",
              "      <td>335.5</td>\n",
              "      <td>337.4</td>\n",
              "      <td>5537214.68</td>\n",
              "      <td>1.866672e+09</td>\n",
              "      <td>0</td>\n",
              "      <td>0.009226</td>\n",
              "      <td>0.010759</td>\n",
              "      <td>False</td>\n",
              "    </tr>\n",
              "    <tr>\n",
              "      <th>6</th>\n",
              "      <td>1.605834e+09</td>\n",
              "      <td>2020-11-20 01-AM</td>\n",
              "      <td>XRPKRW</td>\n",
              "      <td>335.5</td>\n",
              "      <td>336.2</td>\n",
              "      <td>334.6</td>\n",
              "      <td>336.0</td>\n",
              "      <td>3041073.92</td>\n",
              "      <td>1.020078e+09</td>\n",
              "      <td>0</td>\n",
              "      <td>0.004769</td>\n",
              "      <td>0.012927</td>\n",
              "      <td>False</td>\n",
              "    </tr>\n",
              "    <tr>\n",
              "      <th>7</th>\n",
              "      <td>1.605830e+09</td>\n",
              "      <td>2020-11-20 12-AM</td>\n",
              "      <td>XRPKRW</td>\n",
              "      <td>337.7</td>\n",
              "      <td>337.7</td>\n",
              "      <td>334.3</td>\n",
              "      <td>335.5</td>\n",
              "      <td>10067769.60</td>\n",
              "      <td>3.387677e+09</td>\n",
              "      <td>0</td>\n",
              "      <td>0.010068</td>\n",
              "      <td>0.013110</td>\n",
              "      <td>False</td>\n",
              "    </tr>\n",
              "    <tr>\n",
              "      <th>8</th>\n",
              "      <td>1.605827e+09</td>\n",
              "      <td>2020-11-19 11-PM</td>\n",
              "      <td>XRPKRW</td>\n",
              "      <td>334.7</td>\n",
              "      <td>337.8</td>\n",
              "      <td>332.9</td>\n",
              "      <td>337.7</td>\n",
              "      <td>6555515.08</td>\n",
              "      <td>2.195813e+09</td>\n",
              "      <td>0</td>\n",
              "      <td>0.014640</td>\n",
              "      <td>0.012228</td>\n",
              "      <td>False</td>\n",
              "    </tr>\n",
              "    <tr>\n",
              "      <th>9</th>\n",
              "      <td>1.605823e+09</td>\n",
              "      <td>2020-11-19 10-PM</td>\n",
              "      <td>XRPKRW</td>\n",
              "      <td>331.9</td>\n",
              "      <td>335.5</td>\n",
              "      <td>331.0</td>\n",
              "      <td>334.7</td>\n",
              "      <td>2692570.25</td>\n",
              "      <td>8.989558e+08</td>\n",
              "      <td>0</td>\n",
              "      <td>0.013558</td>\n",
              "      <td>0.011322</td>\n",
              "      <td>False</td>\n",
              "    </tr>\n",
              "    <tr>\n",
              "      <th>10</th>\n",
              "      <td>1.605820e+09</td>\n",
              "      <td>2020-11-19 09-PM</td>\n",
              "      <td>XRPKRW</td>\n",
              "      <td>334.8</td>\n",
              "      <td>335.2</td>\n",
              "      <td>330.7</td>\n",
              "      <td>331.9</td>\n",
              "      <td>2754310.47</td>\n",
              "      <td>9.175135e+08</td>\n",
              "      <td>0</td>\n",
              "      <td>0.013441</td>\n",
              "      <td>0.011554</td>\n",
              "      <td>False</td>\n",
              "    </tr>\n",
              "    <tr>\n",
              "      <th>11</th>\n",
              "      <td>1.605816e+09</td>\n",
              "      <td>2020-11-19 08-PM</td>\n",
              "      <td>XRPKRW</td>\n",
              "      <td>333.3</td>\n",
              "      <td>335.4</td>\n",
              "      <td>331.8</td>\n",
              "      <td>334.8</td>\n",
              "      <td>1265748.45</td>\n",
              "      <td>4.232870e+08</td>\n",
              "      <td>0</td>\n",
              "      <td>0.010801</td>\n",
              "      <td>0.016664</td>\n",
              "      <td>False</td>\n",
              "    </tr>\n",
              "    <tr>\n",
              "      <th>12</th>\n",
              "      <td>1.605812e+09</td>\n",
              "      <td>2020-11-19 07-PM</td>\n",
              "      <td>XRPKRW</td>\n",
              "      <td>333.0</td>\n",
              "      <td>334.6</td>\n",
              "      <td>330.9</td>\n",
              "      <td>333.3</td>\n",
              "      <td>1397522.22</td>\n",
              "      <td>4.641671e+08</td>\n",
              "      <td>0</td>\n",
              "      <td>0.011111</td>\n",
              "      <td>0.015402</td>\n",
              "      <td>False</td>\n",
              "    </tr>\n",
              "    <tr>\n",
              "      <th>13</th>\n",
              "      <td>1.605809e+09</td>\n",
              "      <td>2020-11-19 06-PM</td>\n",
              "      <td>XRPKRW</td>\n",
              "      <td>332.2</td>\n",
              "      <td>335.4</td>\n",
              "      <td>332.1</td>\n",
              "      <td>333.0</td>\n",
              "      <td>2322757.64</td>\n",
              "      <td>7.753150e+08</td>\n",
              "      <td>0</td>\n",
              "      <td>0.009934</td>\n",
              "      <td>0.015567</td>\n",
              "      <td>False</td>\n",
              "    </tr>\n",
              "    <tr>\n",
              "      <th>14</th>\n",
              "      <td>1.605805e+09</td>\n",
              "      <td>2020-11-19 05-PM</td>\n",
              "      <td>XRPKRW</td>\n",
              "      <td>334.0</td>\n",
              "      <td>334.2</td>\n",
              "      <td>329.4</td>\n",
              "      <td>332.2</td>\n",
              "      <td>3412683.01</td>\n",
              "      <td>1.130757e+09</td>\n",
              "      <td>0</td>\n",
              "      <td>0.014371</td>\n",
              "      <td>0.015083</td>\n",
              "      <td>False</td>\n",
              "    </tr>\n",
              "  </tbody>\n",
              "</table>\n",
              "</div>"
            ],
            "text/plain": [
              "    Unix Timestamp              Date  Symbol  ...       Gap     Trend  WillSoar\n",
              "0     1.605856e+09  2020-11-20 07-AM  XRPKRW  ...  0.008081  0.011493      None\n",
              "1     1.605852e+09  2020-11-20 06-AM  XRPKRW  ...  0.008735  0.011616      None\n",
              "2     1.605848e+09  2020-11-20 05-AM  XRPKRW  ...  0.018496  0.008184      None\n",
              "3     1.605845e+09  2020-11-20 04-AM  XRPKRW  ...  0.009552  0.008313      None\n",
              "4     1.605841e+09  2020-11-20 03-AM  XRPKRW  ...  0.009188  0.009676      None\n",
              "5     1.605838e+09  2020-11-20 02-AM  XRPKRW  ...  0.009226  0.010759     False\n",
              "6     1.605834e+09  2020-11-20 01-AM  XRPKRW  ...  0.004769  0.012927     False\n",
              "7     1.605830e+09  2020-11-20 12-AM  XRPKRW  ...  0.010068  0.013110     False\n",
              "8     1.605827e+09  2020-11-19 11-PM  XRPKRW  ...  0.014640  0.012228     False\n",
              "9     1.605823e+09  2020-11-19 10-PM  XRPKRW  ...  0.013558  0.011322     False\n",
              "10    1.605820e+09  2020-11-19 09-PM  XRPKRW  ...  0.013441  0.011554     False\n",
              "11    1.605816e+09  2020-11-19 08-PM  XRPKRW  ...  0.010801  0.016664     False\n",
              "12    1.605812e+09  2020-11-19 07-PM  XRPKRW  ...  0.011111  0.015402     False\n",
              "13    1.605809e+09  2020-11-19 06-PM  XRPKRW  ...  0.009934  0.015567     False\n",
              "14    1.605805e+09  2020-11-19 05-PM  XRPKRW  ...  0.014371  0.015083     False\n",
              "\n",
              "[15 rows x 13 columns]"
            ]
          },
          "metadata": {
            "tags": []
          },
          "execution_count": 9
        }
      ]
    },
    {
      "cell_type": "markdown",
      "metadata": {
        "id": "SI9o9pWfAFF2"
      },
      "source": [
        "이 프로젝트를 시작하게 된 계기는 경험적인 궁금증이다. 재미삼아 가상화폐 계좌를 만들고, 투자를 하다 보니 \"일정 시간 동안 가격이 별로 움직이지 않던 화폐를 사면 머지않아 그 코인 가격이 급등한다\"는 것을 느끼게 되었다. 그냥 느낌이 그런지, 아니면 실제로 이 \"적은 가격 변동\"이라는 변수가 급등 여부 예측에 도움이 되는 건지를 알아보고자 이 프로젝트를 시작했다. "
      ]
    },
    {
      "cell_type": "code",
      "metadata": {
        "id": "ZKRy78P18-6k"
      },
      "source": [
        "from matplotlib import pyplot as plt"
      ],
      "execution_count": 10,
      "outputs": []
    },
    {
      "cell_type": "code",
      "metadata": {
        "colab": {
          "base_uri": "https://localhost:8080/",
          "height": 297
        },
        "id": "gqBAVxk28jKU",
        "outputId": "c1a72cac-92dc-4af5-c7a8-8afaa977400b"
      },
      "source": [
        "## visualization - does small variation indicate future soar?\r\n",
        "\r\n",
        "plt.scatter(x = xrp_clean[\"Trend\"], y = xrp_clean[\"Soar\"], alpha = 0.3)\r\n",
        "plt.xlabel(\"Trend\")"
      ],
      "execution_count": 13,
      "outputs": [
        {
          "output_type": "execute_result",
          "data": {
            "text/plain": [
              "Text(0.5, 0, 'Trend')"
            ]
          },
          "metadata": {
            "tags": []
          },
          "execution_count": 13
        },
        {
          "output_type": "display_data",
          "data": {
            "image/png": "[encoded data removed]",
            "text/plain": [
              "<Figure size 432x288 with 1 Axes>"
            ]
          },
          "metadata": {
            "tags": [],
            "needs_background": "light"
          }
        }
      ]
    },
    {
      "cell_type": "markdown",
      "metadata": {
        "id": "WZJDunDlA8bH"
      },
      "source": [
        "이 스캐터플롯은 별로 좋은 인사이트를 주지 못한다... 급등이 없는 (0) observation의 trend와 급등이 존재하는(1) observation의 trend가 크게 다르지 않아 보인다."
      ]
    },
    {
      "cell_type": "code",
      "metadata": {
        "colab": {
          "base_uri": "https://localhost:8080/",
          "height": 136
        },
        "id": "BlpU4jiVCLaA",
        "outputId": "3b76d119-3acb-4a88-ee0e-b8234ea2f03a"
      },
      "source": [
        "xrp_clean.groupby(\"Soar\").mean()"
      ],
      "execution_count": 16,
      "outputs": [
        {
          "output_type": "execute_result",
          "data": {
            "text/html": [
              "<div>\n",
              "<style scoped>\n",
              "    .dataframe tbody tr th:only-of-type {\n",
              "        vertical-align: middle;\n",
              "    }\n",
              "\n",
              "    .dataframe tbody tr th {\n",
              "        vertical-align: top;\n",
              "    }\n",
              "\n",
              "    .dataframe thead th {\n",
              "        text-align: right;\n",
              "    }\n",
              "</style>\n",
              "<table border=\"1\" class=\"dataframe\">\n",
              "  <thead>\n",
              "    <tr style=\"text-align: right;\">\n",
              "      <th></th>\n",
              "      <th>Unix Timestamp</th>\n",
              "      <th>Open</th>\n",
              "      <th>High</th>\n",
              "      <th>Low</th>\n",
              "      <th>Close</th>\n",
              "      <th>Volume XRP</th>\n",
              "      <th>Volume KRW</th>\n",
              "      <th>Gap</th>\n",
              "      <th>Trend</th>\n",
              "    </tr>\n",
              "    <tr>\n",
              "      <th>Soar</th>\n",
              "      <th></th>\n",
              "      <th></th>\n",
              "      <th></th>\n",
              "      <th></th>\n",
              "      <th></th>\n",
              "      <th></th>\n",
              "      <th></th>\n",
              "      <th></th>\n",
              "      <th></th>\n",
              "    </tr>\n",
              "  </thead>\n",
              "  <tbody>\n",
              "    <tr>\n",
              "      <th>0</th>\n",
              "      <td>1.556554e+09</td>\n",
              "      <td>469.556916</td>\n",
              "      <td>472.743535</td>\n",
              "      <td>465.458534</td>\n",
              "      <td>468.826965</td>\n",
              "      <td>3.781497e+06</td>\n",
              "      <td>2.105158e+09</td>\n",
              "      <td>0.011600</td>\n",
              "      <td>0.012037</td>\n",
              "    </tr>\n",
              "    <tr>\n",
              "      <th>1</th>\n",
              "      <td>1.526574e+09</td>\n",
              "      <td>1104.576490</td>\n",
              "      <td>1200.435099</td>\n",
              "      <td>1093.360265</td>\n",
              "      <td>1171.303642</td>\n",
              "      <td>1.927474e+07</td>\n",
              "      <td>1.519614e+10</td>\n",
              "      <td>0.095079</td>\n",
              "      <td>0.055633</td>\n",
              "    </tr>\n",
              "  </tbody>\n",
              "</table>\n",
              "</div>"
            ],
            "text/plain": [
              "      Unix Timestamp         Open  ...       Gap     Trend\n",
              "Soar                               ...                    \n",
              "0       1.556554e+09   469.556916  ...  0.011600  0.012037\n",
              "1       1.526574e+09  1104.576490  ...  0.095079  0.055633\n",
              "\n",
              "[2 rows x 9 columns]"
            ]
          },
          "metadata": {
            "tags": []
          },
          "execution_count": 16
        }
      ]
    },
    {
      "cell_type": "markdown",
      "metadata": {
        "id": "gMc-wVLwDA44"
      },
      "source": [
        "급등이 존재하는 데이터의 Trend가 더 큰 것을 볼 수 있다. 이것은 오히려 내가 생각했던 가설과 반대이다. 이 결과가 함의하는 것은, \"직전에 변동성이 컸던 경우, 해당 시간에도 급등이 일어날 가능성이 높다\" 정도가 되겠다."
      ]
    },
    {
      "cell_type": "code",
      "metadata": {
        "id": "k7xIboq5tv08"
      },
      "source": [
        "n = xrp.shape[0]\r\n",
        "xrp_clean = xrp[5:(n-5)]\r\n",
        "y = [int(x) for x in xrp_clean[\"WillSoar\"]]\r\n",
        "X = xrp_clean[[\"Open\", \"High\", \"Low\", \"Close\", \"Gap\", \"Trend\", \"Soar\"]]\r\n",
        "\r\n",
        "# Predict if there will be a soar within 5 hours"
      ],
      "execution_count": 12,
      "outputs": []
    },
    {
      "cell_type": "code",
      "metadata": {
        "id": "TE6kB2BZxEkW"
      },
      "source": [
        "from sklearn.model_selection import train_test_split\r\n",
        "\r\n",
        "X_train, X_test, y_train, y_test = train_test_split(X, y, test_size = 0.2, random_state = 10)"
      ],
      "execution_count": null,
      "outputs": []
    },
    {
      "cell_type": "code",
      "metadata": {
        "id": "xsh7yxmyyw4e"
      },
      "source": [
        "import seaborn as sns"
      ],
      "execution_count": null,
      "outputs": []
    },
    {
      "cell_type": "code",
      "metadata": {
        "colab": {
          "base_uri": "https://localhost:8080/",
          "height": 297
        },
        "id": "qFytGSdLxo8p",
        "outputId": "f627b569-f502-4618-9b0a-6662a3bcd3d4"
      },
      "source": [
        "from sklearn.ensemble import RandomForestClassifier\r\n",
        "from sklearn.metrics import confusion_matrix\r\n",
        "from sklearn.metrics import accuracy_score\r\n",
        "\r\n",
        "rf = RandomForestClassifier(max_depth = 100, random_state = 1)\r\n",
        "rf.fit(X_train, y_train)\r\n",
        "predicted = rf.predict(X_test)\r\n",
        "accuracy = accuracy_score(y_test, predicted)\r\n",
        "print(\"Accuracy score = {}\".format(round(accuracy, 4)))\r\n",
        "\r\n",
        "cm = pd.DataFrame(confusion_matrix(y_test, predicted))\r\n",
        "ax = sns.heatmap(cm, annot=True)\r\n",
        "ax.set(xlabel = \"Prediction\", ylabel = \"True\")\r\n",
        "plt.show()"
      ],
      "execution_count": null,
      "outputs": [
        {
          "output_type": "stream",
          "text": [
            "Accuracy score = 0.9688\n"
          ],
          "name": "stdout"
        },
        {
          "output_type": "display_data",
          "data": {
            "image/png": "[encoded data removed]",
            "text/plain": [
              "<Figure size 432x288 with 2 Axes>"
            ]
          },
          "metadata": {
            "tags": [],
            "needs_background": "light"
          }
        }
      ]
    },
    {
      "cell_type": "code",
      "metadata": {
        "colab": {
          "base_uri": "https://localhost:8080/"
        },
        "id": "42I1XXoU-4Z5",
        "outputId": "c2bd7dca-472c-4a81-9588-b11ed978811f"
      },
      "source": [
        "from sklearn.metrics import precision_score\r\n",
        "from sklearn.metrics import recall_score\r\n",
        "\r\n",
        "print(\"Precision = {}\".format(precision_score(y_test, predicted)))\r\n",
        "print(\"Recall = {}\".format(recall_score(y_test, predicted)))\r\n",
        "print(n)\r\n",
        "print(sum(y))\r\n",
        "print(\"Proportion of soar = {} %\".format(round(sum(y)/n*100, 3)))"
      ],
      "execution_count": null,
      "outputs": [
        {
          "output_type": "stream",
          "text": [
            "Precision = 0.6\n",
            "Recall = 0.2698412698412698\n",
            "27573\n",
            "922\n",
            "Proportion of soar = 3.344 %\n"
          ],
          "name": "stdout"
        }
      ]
    },
    {
      "cell_type": "markdown",
      "metadata": {
        "id": "aUsdSNBVByiL"
      },
      "source": [
        "Accuracy는 96.88% 로 매우 높은 것에 비하여 Precision과 Recall은 각각 60%, 27%로 좋지 않다. 이는 데이터셋이 매우 치우쳐 있기 때문이다. 전체 데이터 27573건 중 급등이 발생하는 데이터는 922건으로, 약 3.3퍼센트에 그친다. 이는 쉽게 말해서 Classifier가 feature들을 전혀 보지 않고 무조건 0으로 predict해도 accuracy가 97%에 달한다는 의미이다. 이처럼, 의미있는 분류기를 만들려면 imbalanced data를 handle할 방법이 필요하다.\r\n",
        "\r\n",
        "우리의 imbalanced data에는 \"1\"이 3퍼센트, \"0\"이 97퍼센트 존재한다. 이 편향을 완화하기 위해서 취할 수 있는 방식은 크게 두 가지가 있다. undersampling과 oversampling이다.\r\n",
        "1. Undersampling\r\n",
        "- 너무 많은 쪽의 데이터를 랜덤하게 일부분만 뽑아서 새로운 작은 dataset을 만드는 방법\r\n",
        "2. Oversampling\r\n",
        "- 적은 쪽의 데이터에서 복원추출을 통해 dataset의 크기를 키우는 방법\r\n",
        "- SMOTE 방법이 많이 쓰임\r\n",
        "\r\n",
        "자세한 내용은 아래의 블로그에 설명되어 있다.\r\n",
        "\r\n",
        "출처: https://www.analyticsvidhya.com/blog/2017/03/imbalanced-data-classification/"
      ]
    },
    {
      "cell_type": "code",
      "metadata": {
        "colab": {
          "base_uri": "https://localhost:8080/"
        },
        "id": "wWn_zoD40ucZ",
        "outputId": "1af86cfe-03ab-44b3-cbc8-6578555aca31"
      },
      "source": [
        "# Try oversampling\r\n",
        "from imblearn.over_sampling import SMOTE\r\n",
        "\r\n",
        "oversample = SMOTE()\r\n",
        "overX, overy = oversample.fit_resample(X, y)\r\n",
        "\r\n",
        "print(\"number of soar: {} -> {}\".format(sum(y), sum(overy)))"
      ],
      "execution_count": null,
      "outputs": [
        {
          "output_type": "stream",
          "text": [
            "/usr/local/lib/python3.7/dist-packages/sklearn/utils/deprecation.py:87: FutureWarning: Function safe_indexing is deprecated; safe_indexing is deprecated in version 0.22 and will be removed in version 0.24.\n",
            "  warnings.warn(msg, category=FutureWarning)\n"
          ],
          "name": "stderr"
        },
        {
          "output_type": "stream",
          "text": [
            "number of soar: 922 -> 26641\n"
          ],
          "name": "stdout"
        }
      ]
    },
    {
      "cell_type": "code",
      "metadata": {
        "colab": {
          "base_uri": "https://localhost:8080/",
          "height": 279
        },
        "id": "zHEXyjhuKpsx",
        "outputId": "f7c24d50-4b05-4338-847a-189852deb5ad"
      },
      "source": [
        "trainosX, testosX, trainosy, testosy = train_test_split(overX, overy, test_size = 0.2, random_state = 33)\r\n",
        "rfsmote = RandomForestClassifier()\r\n",
        "rfsmote.fit(trainosX, trainosy)\r\n",
        "smotepred = rfsmote.predict(testosX)\r\n",
        "\r\n",
        "cm2 = pd.DataFrame(confusion_matrix(testosy, smotepred))\r\n",
        "ax2 = sns.heatmap(cm2, annot=True)\r\n",
        "ax2.set(xlabel = \"Prediction\", ylabel = \"True\")\r\n",
        "plt.show()"
      ],
      "execution_count": null,
      "outputs": [
        {
          "output_type": "display_data",
          "data": {
            "image/png": "[encoded data removed]",
            "text/plain": [
              "<Figure size 432x288 with 2 Axes>"
            ]
          },
          "metadata": {
            "tags": [],
            "needs_background": "light"
          }
        }
      ]
    },
    {
      "cell_type": "markdown",
      "metadata": {
        "id": "oL-R0g3iM6yb"
      },
      "source": [
        "precision과 recall을 계산해보자."
      ]
    },
    {
      "cell_type": "code",
      "metadata": {
        "colab": {
          "base_uri": "https://localhost:8080/"
        },
        "id": "cB_HLLwoNA5u",
        "outputId": "f20f5fd9-1c19-4a5f-9875-447571cade42"
      },
      "source": [
        "print(\"Precision = {}\".format(precision_score(testosy, smotepred)))\r\n",
        "print(\"Recall = {}\".format(recall_score(testosy, smotepred)))"
      ],
      "execution_count": null,
      "outputs": [
        {
          "output_type": "stream",
          "text": [
            "Precision = 0.9421996738539591\n",
            "Recall = 0.975609756097561\n"
          ],
          "name": "stdout"
        }
      ]
    },
    {
      "cell_type": "markdown",
      "metadata": {
        "id": "9qTrIqA9Nagf"
      },
      "source": [
        "Precision 94%, Recall 98%이라는 훌륭한 결과가 나왔다. 이 분류기를 이용하는 사람 입장에서는 Precision이 더 중요하게 여겨질 것이다. 데이터를 넣었을 때 급등한다고 예측되는 데이터의 94%가 실제로 급등하기 때문이다.\r\n",
        "\r\n",
        "이제, 이 분류기가 어떤 기준으로 분류를 하는지 살펴보자."
      ]
    },
    {
      "cell_type": "code",
      "metadata": {
        "id": "GcsEG4G1LZJx"
      },
      "source": [
        ""
      ],
      "execution_count": null,
      "outputs": []
    }
  ]
}